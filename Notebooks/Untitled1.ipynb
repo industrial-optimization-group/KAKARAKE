{
 "cells": [
  {
   "cell_type": "code",
   "execution_count": 1,
   "metadata": {},
   "outputs": [],
   "source": [
    "import pickle, gzip\n",
    "import pandas as pd\n",
    "import h5py"
   ]
  },
  {
   "cell_type": "code",
   "execution_count": 8,
   "metadata": {},
   "outputs": [
    {
     "ename": "UnpicklingError",
     "evalue": "invalid load key, 'v'.",
     "output_type": "error",
     "traceback": [
      "\u001b[1;31m---------------------------------------------------------------------------\u001b[0m",
      "\u001b[1;31mUnpicklingError\u001b[0m                           Traceback (most recent call last)",
      "\u001b[1;32m<ipython-input-8-d58053175ac6>\u001b[0m in \u001b[0;36m<module>\u001b[1;34m\u001b[0m\n\u001b[0;32m      1\u001b[0m \u001b[1;32mwith\u001b[0m \u001b[0mopen\u001b[0m\u001b[1;33m(\u001b[0m\u001b[1;34m\"../mat_data/DDMOP1.p\"\u001b[0m\u001b[1;33m,\u001b[0m \u001b[1;34m\"rb\"\u001b[0m\u001b[1;33m)\u001b[0m \u001b[1;32mas\u001b[0m \u001b[0mfile\u001b[0m\u001b[1;33m:\u001b[0m\u001b[1;33m\u001b[0m\u001b[1;33m\u001b[0m\u001b[0m\n\u001b[1;32m----> 2\u001b[1;33m     \u001b[0mx\u001b[0m \u001b[1;33m=\u001b[0m \u001b[0mpickle\u001b[0m\u001b[1;33m.\u001b[0m\u001b[0mload\u001b[0m\u001b[1;33m(\u001b[0m\u001b[0mfile\u001b[0m\u001b[1;33m)\u001b[0m\u001b[1;33m\u001b[0m\u001b[1;33m\u001b[0m\u001b[0m\n\u001b[0m",
      "\u001b[1;31mUnpicklingError\u001b[0m: invalid load key, 'v'."
     ]
    }
   ],
   "source": [
    "with open(\"../mat_data/DDMOP1.p\", \"rb\") as file:\n",
    "    x = pickle.load(file)"
   ]
  },
  {
   "cell_type": "code",
   "execution_count": 13,
   "metadata": {},
   "outputs": [
    {
     "ename": "ImportError",
     "evalue": "Missing optional dependency 'tables'.  Use pip or conda to install tables.",
     "output_type": "error",
     "traceback": [
      "\u001b[1;31m---------------------------------------------------------------------------\u001b[0m",
      "\u001b[1;31mImportError\u001b[0m                               Traceback (most recent call last)",
      "\u001b[1;32m<ipython-input-13-3decc4a7f50b>\u001b[0m in \u001b[0;36m<module>\u001b[1;34m\u001b[0m\n\u001b[1;32m----> 1\u001b[1;33m \u001b[0mpd\u001b[0m\u001b[1;33m.\u001b[0m\u001b[0mread_hdf\u001b[0m\u001b[1;33m(\u001b[0m\u001b[1;34m\"../mat_data/DDMOP1.p\"\u001b[0m\u001b[1;33m)\u001b[0m\u001b[1;33m\u001b[0m\u001b[1;33m\u001b[0m\u001b[0m\n\u001b[0m",
      "\u001b[1;32mc:\\projects\\.virtualenvs\\kakarake\\lib\\site-packages\\pandas\\io\\pytables.py\u001b[0m in \u001b[0;36mread_hdf\u001b[1;34m(path_or_buf, key, mode, errors, where, start, stop, columns, iterator, chunksize, **kwargs)\u001b[0m\n\u001b[0;32m    387\u001b[0m             \u001b[1;32mraise\u001b[0m \u001b[0mFileNotFoundError\u001b[0m\u001b[1;33m(\u001b[0m\u001b[1;34mf\"File {path_or_buf} does not exist\"\u001b[0m\u001b[1;33m)\u001b[0m\u001b[1;33m\u001b[0m\u001b[1;33m\u001b[0m\u001b[0m\n\u001b[0;32m    388\u001b[0m \u001b[1;33m\u001b[0m\u001b[0m\n\u001b[1;32m--> 389\u001b[1;33m         \u001b[0mstore\u001b[0m \u001b[1;33m=\u001b[0m \u001b[0mHDFStore\u001b[0m\u001b[1;33m(\u001b[0m\u001b[0mpath_or_buf\u001b[0m\u001b[1;33m,\u001b[0m \u001b[0mmode\u001b[0m\u001b[1;33m=\u001b[0m\u001b[0mmode\u001b[0m\u001b[1;33m,\u001b[0m \u001b[0merrors\u001b[0m\u001b[1;33m=\u001b[0m\u001b[0merrors\u001b[0m\u001b[1;33m,\u001b[0m \u001b[1;33m**\u001b[0m\u001b[0mkwargs\u001b[0m\u001b[1;33m)\u001b[0m\u001b[1;33m\u001b[0m\u001b[1;33m\u001b[0m\u001b[0m\n\u001b[0m\u001b[0;32m    390\u001b[0m         \u001b[1;31m# can't auto open/close if we are using an iterator\u001b[0m\u001b[1;33m\u001b[0m\u001b[1;33m\u001b[0m\u001b[1;33m\u001b[0m\u001b[0m\n\u001b[0;32m    391\u001b[0m         \u001b[1;31m# so delegate to the iterator\u001b[0m\u001b[1;33m\u001b[0m\u001b[1;33m\u001b[0m\u001b[1;33m\u001b[0m\u001b[0m\n",
      "\u001b[1;32mc:\\projects\\.virtualenvs\\kakarake\\lib\\site-packages\\pandas\\io\\pytables.py\u001b[0m in \u001b[0;36m__init__\u001b[1;34m(self, path, mode, complevel, complib, fletcher32, **kwargs)\u001b[0m\n\u001b[0;32m    532\u001b[0m             \u001b[1;32mraise\u001b[0m \u001b[0mValueError\u001b[0m\u001b[1;33m(\u001b[0m\u001b[1;34m\"format is not a defined argument for HDFStore\"\u001b[0m\u001b[1;33m)\u001b[0m\u001b[1;33m\u001b[0m\u001b[1;33m\u001b[0m\u001b[0m\n\u001b[0;32m    533\u001b[0m \u001b[1;33m\u001b[0m\u001b[0m\n\u001b[1;32m--> 534\u001b[1;33m         \u001b[0mtables\u001b[0m \u001b[1;33m=\u001b[0m \u001b[0mimport_optional_dependency\u001b[0m\u001b[1;33m(\u001b[0m\u001b[1;34m\"tables\"\u001b[0m\u001b[1;33m)\u001b[0m\u001b[1;33m\u001b[0m\u001b[1;33m\u001b[0m\u001b[0m\n\u001b[0m\u001b[0;32m    535\u001b[0m \u001b[1;33m\u001b[0m\u001b[0m\n\u001b[0;32m    536\u001b[0m         \u001b[1;32mif\u001b[0m \u001b[0mcomplib\u001b[0m \u001b[1;32mis\u001b[0m \u001b[1;32mnot\u001b[0m \u001b[1;32mNone\u001b[0m \u001b[1;32mand\u001b[0m \u001b[0mcomplib\u001b[0m \u001b[1;32mnot\u001b[0m \u001b[1;32min\u001b[0m \u001b[0mtables\u001b[0m\u001b[1;33m.\u001b[0m\u001b[0mfilters\u001b[0m\u001b[1;33m.\u001b[0m\u001b[0mall_complibs\u001b[0m\u001b[1;33m:\u001b[0m\u001b[1;33m\u001b[0m\u001b[1;33m\u001b[0m\u001b[0m\n",
      "\u001b[1;32mc:\\projects\\.virtualenvs\\kakarake\\lib\\site-packages\\pandas\\compat\\_optional.py\u001b[0m in \u001b[0;36mimport_optional_dependency\u001b[1;34m(name, extra, raise_on_missing, on_version)\u001b[0m\n\u001b[0;32m    108\u001b[0m     \u001b[1;32mexcept\u001b[0m \u001b[0mImportError\u001b[0m\u001b[1;33m:\u001b[0m\u001b[1;33m\u001b[0m\u001b[1;33m\u001b[0m\u001b[0m\n\u001b[0;32m    109\u001b[0m         \u001b[1;32mif\u001b[0m \u001b[0mraise_on_missing\u001b[0m\u001b[1;33m:\u001b[0m\u001b[1;33m\u001b[0m\u001b[1;33m\u001b[0m\u001b[0m\n\u001b[1;32m--> 110\u001b[1;33m             \u001b[1;32mraise\u001b[0m \u001b[0mImportError\u001b[0m\u001b[1;33m(\u001b[0m\u001b[0mmsg\u001b[0m\u001b[1;33m)\u001b[0m \u001b[1;32mfrom\u001b[0m \u001b[1;32mNone\u001b[0m\u001b[1;33m\u001b[0m\u001b[1;33m\u001b[0m\u001b[0m\n\u001b[0m\u001b[0;32m    111\u001b[0m         \u001b[1;32melse\u001b[0m\u001b[1;33m:\u001b[0m\u001b[1;33m\u001b[0m\u001b[1;33m\u001b[0m\u001b[0m\n\u001b[0;32m    112\u001b[0m             \u001b[1;32mreturn\u001b[0m \u001b[1;32mNone\u001b[0m\u001b[1;33m\u001b[0m\u001b[1;33m\u001b[0m\u001b[0m\n",
      "\u001b[1;31mImportError\u001b[0m: Missing optional dependency 'tables'.  Use pip or conda to install tables."
     ]
    }
   ],
   "source": [
    "pd.read_hdf(\"../mat_data/DDMOP1.p\")"
   ]
  },
  {
   "cell_type": "code",
   "execution_count": 5,
   "metadata": {},
   "outputs": [],
   "source": [
    "from scipy.io import loadmat"
   ]
  },
  {
   "cell_type": "code",
   "execution_count": 17,
   "metadata": {},
   "outputs": [],
   "source": [
    "dat = loadmat(\"../mat_data/DDMOP2.mat\")"
   ]
  },
  {
   "cell_type": "code",
   "execution_count": 21,
   "metadata": {},
   "outputs": [
    {
     "data": {
      "text/plain": [
       "(54, 5)"
      ]
     },
     "execution_count": 21,
     "metadata": {},
     "output_type": "execute_result"
    }
   ],
   "source": [
    "\n",
    "dat[\"initial\"].shape"
   ]
  },
  {
   "cell_type": "code",
   "execution_count": 19,
   "metadata": {},
   "outputs": [
    {
     "data": {
      "text/plain": [
       "{'__header__': b'MATLAB 5.0 MAT-file, Platform: PCWIN64, Created on: Tue Jul  3 14:47:08 2018',\n",
       " '__version__': '1.0',\n",
       " '__globals__': [],\n",
       " 'initial': array([[0.35043296, 0.99392237, 0.72402853, 0.12802477, 0.23385136],\n",
       "        [0.1005594 , 0.53139149, 0.59774997, 0.13245144, 0.44985156],\n",
       "        [0.50342252, 0.74199987, 0.58420151, 0.05232994, 0.4709565 ],\n",
       "        [0.47972002, 0.48619982, 0.98069457, 0.41737671, 0.72250902],\n",
       "        [0.9255509 , 0.50414889, 0.68453497, 0.16659509, 0.35155674],\n",
       "        [0.52664574, 0.27162653, 0.15106691, 0.92737362, 0.65124386],\n",
       "        [0.79835406, 0.7193406 , 0.18464061, 0.34153108, 0.11307808],\n",
       "        [0.56033453, 0.93230486, 0.77698457, 0.29827135, 0.76615574],\n",
       "        [0.8223837 , 0.69963925, 0.84232177, 0.90670182, 0.28144664],\n",
       "        [0.64064622, 0.47546911, 0.32963482, 0.79638212, 0.30536459],\n",
       "        [0.37522614, 0.12975399, 0.00262752, 0.9217576 , 0.95073136],\n",
       "        [0.84449709, 0.97411427, 0.98929188, 0.95957969, 0.20280797],\n",
       "        [0.29094844, 0.22938465, 0.27621732, 0.86793879, 0.01704319],\n",
       "        [0.0781805 , 0.25770354, 0.34800384, 0.05711918, 0.74171624],\n",
       "        [0.2984707 , 0.90742872, 0.2399906 , 0.26666264, 0.79144182],\n",
       "        [0.04253103, 0.04560091, 0.04918038, 0.81962723, 0.98646517],\n",
       "        [0.85775515, 0.58193239, 0.18584651, 0.5333346 , 0.26708955],\n",
       "        [0.93378087, 0.84186882, 0.88609499, 0.98947063, 0.49162724],\n",
       "        [0.97236775, 0.55129925, 0.49877765, 0.70204903, 0.64708772],\n",
       "        [0.76084289, 0.08004577, 0.80886547, 0.07744161, 0.08181008],\n",
       "        [0.74560152, 0.57008776, 0.75477297, 0.35673709, 0.55524171],\n",
       "        [0.45927805, 0.32354365, 0.31005801, 0.6323248 , 0.32039731],\n",
       "        [0.14868926, 0.81547709, 0.39615235, 0.96548275, 0.71668701],\n",
       "        [0.36905285, 0.89214582, 0.54917552, 0.49757949, 0.25308035],\n",
       "        [0.14315428, 0.43929182, 0.94761457, 0.51073527, 0.80628012],\n",
       "        [0.43497424, 0.76802752, 0.71677863, 0.23240482, 0.84626121],\n",
       "        [0.67738009, 0.78060595, 0.37095987, 0.83601768, 0.38271348],\n",
       "        [0.54143118, 0.19150231, 0.06068376, 0.47875984, 0.87366912],\n",
       "        [0.95294164, 0.40013684, 0.81566984, 0.54855658, 0.81718545],\n",
       "        [0.27709423, 0.35540269, 0.61290985, 0.56205467, 0.51850149],\n",
       "        [0.19531122, 0.18034124, 0.14487885, 0.67617129, 0.61428002],\n",
       "        [0.21335437, 0.94894166, 0.45731164, 0.24818163, 0.09319631],\n",
       "        [0.70799249, 0.16513749, 0.56142777, 0.74214753, 0.21409629],\n",
       "        [0.99053514, 0.61609373, 0.70278189, 0.02296141, 0.36818271],\n",
       "        [0.65970482, 0.34750926, 0.42656382, 0.78006146, 0.6790588 ],\n",
       "        [0.49405807, 0.29979004, 0.85997675, 0.76266496, 0.91093395],\n",
       "        [0.06287991, 0.37569441, 0.35891775, 0.37481394, 0.43275771],\n",
       "        [0.41421179, 0.00168729, 0.90306513, 0.61883828, 0.52705048],\n",
       "        [0.62940707, 0.0662261 , 0.92213333, 0.20462323, 0.98114144],\n",
       "        [0.11180998, 0.86450673, 0.07753468, 0.18338363, 0.39178528],\n",
       "        [0.73861422, 0.73234432, 0.93499564, 0.33231087, 0.42325042],\n",
       "        [0.90580161, 0.41529127, 0.02677011, 0.19427526, 0.58601416],\n",
       "        [0.25548489, 0.8823045 , 0.53048728, 0.28683801, 0.06252356],\n",
       "        [0.5944206 , 0.60458551, 0.51313639, 0.45069851, 0.68872081],\n",
       "        [0.57892354, 0.0310929 , 0.64360531, 0.40555655, 0.17459728],\n",
       "        [0.78398809, 0.64140346, 0.78288935, 0.5994305 , 0.56448189],\n",
       "        [0.88295793, 0.12861434, 0.25332783, 0.65020746, 0.02075207],\n",
       "        [0.22475098, 0.09646176, 0.41953885, 0.58852319, 0.86276866],\n",
       "        [0.32817088, 0.80943114, 0.20671503, 0.09980998, 0.15233681],\n",
       "        [0.02049559, 0.20807834, 0.09479625, 0.87484613, 0.13675221],\n",
       "        [0.01210662, 0.65035919, 0.47219193, 0.72970208, 0.89968493],\n",
       "        [0.17581804, 0.28902415, 0.29555081, 0.42771212, 0.930589  ],\n",
       "        [0.69961207, 0.67500255, 0.65445159, 0.70614765, 0.59797112],\n",
       "        [0.40213032, 0.45293936, 0.1219494 , 0.01744538, 0.04846465]])}"
      ]
     },
     "execution_count": 19,
     "metadata": {},
     "output_type": "execute_result"
    }
   ],
   "source": [
    "dat"
   ]
  },
  {
   "cell_type": "code",
   "execution_count": null,
   "metadata": {},
   "outputs": [],
   "source": []
  }
 ],
 "metadata": {
  "kernelspec": {
   "display_name": "KAKARAKE",
   "language": "python",
   "name": "kakarake"
  },
  "language_info": {
   "codemirror_mode": {
    "name": "ipython",
    "version": 3
   },
   "file_extension": ".py",
   "mimetype": "text/x-python",
   "name": "python",
   "nbconvert_exporter": "python",
   "pygments_lexer": "ipython3",
   "version": "3.7.7"
  }
 },
 "nbformat": 4,
 "nbformat_minor": 4
}
